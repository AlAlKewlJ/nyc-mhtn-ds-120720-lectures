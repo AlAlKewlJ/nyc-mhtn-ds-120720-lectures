{
 "cells": [
  {
   "cell_type": "code",
   "execution_count": 195,
   "metadata": {},
   "outputs": [],
   "source": [
    "import pandas as pd\n",
    "pd.set_option('display.max_columns', 300)\n",
    "pd.set_option('display.max_rows', 200)\n",
    "import numpy as np\n",
    "from matplotlib import pyplot as plt\n",
    "from sklearn import linear_model\n",
    "from sklearn.linear_model import LinearRegression\n",
    "from sklearn.model_selection import train_test_split\n",
    "from sklearn import metrics\n",
    "from sklearn.preprocessing import PolynomialFeatures\n",
    "from sklearn.preprocessing import StandardScaler\n",
    "import seaborn as sns\n",
    "from sklearn.feature_selection import SelectKBest, f_regression,mutual_info_regression\n",
    "sns.set(style=\"whitegrid\")\n",
    "import pickle\n",
    "from sklearn.feature_selection import RFECV"
   ]
  },
  {
   "cell_type": "markdown",
   "metadata": {},
   "source": [
    "## Step 1: Read in hold out data, scalers, and best model"
   ]
  },
  {
   "cell_type": "code",
   "execution_count": 196,
   "metadata": {},
   "outputs": [],
   "source": [
    "#holdout = pd.read_csv('resources/movies_holdout_features.csv', index_col=0)\n",
    "holdout = pd.read_csv('kc_house_data_test_features.csv', index_col=0)"
   ]
  },
  {
   "cell_type": "code",
   "execution_count": 197,
   "metadata": {},
   "outputs": [],
   "source": [
    "# final_scaler = read_pickle(filename)\n",
    "# final_model = read_pickle(filename)\n",
    "file = open('model.pickle', 'rb')\n",
    "final_model = pickle.load(file)\n",
    "\n",
    "# final_scaler = open('scaler.pickle')"
   ]
  },
  {
   "cell_type": "code",
   "execution_count": 198,
   "metadata": {},
   "outputs": [],
   "source": [
    "holdout['bedrooms']=holdout['bedrooms'].replace([33],3)\n",
    "holdout.loc[holdout['bedrooms'] >= 10]\n",
    "holdout.loc[holdout['bathrooms'] == 0] \n",
    "holdout['bathrooms'] = holdout['bathrooms'].replace([0],.25)"
   ]
  },
  {
   "cell_type": "markdown",
   "metadata": {},
   "source": [
    "## Step 2: Feature Engineering for holdout set"
   ]
  },
  {
   "cell_type": "code",
   "execution_count": 199,
   "metadata": {},
   "outputs": [],
   "source": [
    "features = ['bedrooms', 'bathrooms', 'sqft_living',\n",
    "       'sqft_lot', 'floors', 'waterfront', 'view', 'condition', 'grade',\n",
    "       'sqft_above', 'sqft_basement', 'yr_built', 'yr_renovated', 'zipcode',\n",
    "       'lat', 'long', 'sqft_living15', 'sqft_lot15']\n",
    "\n",
    "holdout_features = holdout[features]"
   ]
  },
  {
   "cell_type": "code",
   "execution_count": 200,
   "metadata": {},
   "outputs": [],
   "source": [
    "holdout = holdout.drop(['sqft_living',], axis = 1)"
   ]
  },
  {
   "cell_type": "code",
   "execution_count": 201,
   "metadata": {},
   "outputs": [],
   "source": [
    "holdout['multilevel'] = np.where(holdout['floors']> 1, 1, 0)\n",
    "holdout['multilevel'].value_counts()\n",
    "holdout['basement'] = np.where(holdout['sqft_basement']> 1, 1, 0)"
   ]
  },
  {
   "cell_type": "code",
   "execution_count": 202,
   "metadata": {},
   "outputs": [],
   "source": [
    "holdout.replace({'sqft_lot': {1105: 1200}}, inplace=True)"
   ]
  },
  {
   "cell_type": "code",
   "execution_count": 203,
   "metadata": {},
   "outputs": [],
   "source": [
    "holdout['outdoor_space'] = holdout['sqft_lot'] - (holdout['sqft_above']/holdout['floors'])\n",
    "holdout['modern'] = np.where((holdout['yr_built']>= 2004)|(holdout['yr_renovated']>=2001), 1, 0)\n",
    "holdout = holdout.drop(['id', 'date','sqft_lot', 'floors', 'sqft_basement', 'grade', 'sqft_lot15', 'sqft_living15'], axis=1)\n",
    "holdout['outdoor_space^2'] = holdout['outdoor_space']*holdout['outdoor_space']\n",
    "holdout['sqft_view'] = holdout['sqft_above']*holdout['view']\n",
    "holdout['sqft_multilevel'] = holdout['sqft_above']*holdout['multilevel']\n",
    "holdout['outdoor_modern'] = holdout['outdoor_space']*holdout['modern']\n",
    "holdout['outdoorspace_waterfront'] = holdout['outdoor_space']*holdout['waterfront']\n",
    "holdout = holdout.drop(['sqft_view','sqft_multilevel','outdoor_space^2'], axis=1)\n",
    "holdout_dum = pd.get_dummies(holdout['zipcode'])\n",
    "holdout = pd.concat([holdout, holdout_dum], axis=1)\n",
    "holdout = holdout.drop(['outdoor_space', 'outdoor_modern', 'outdoorspace_waterfront'], axis=1)"
   ]
  },
  {
   "cell_type": "code",
   "execution_count": 204,
   "metadata": {},
   "outputs": [
    {
     "data": {
      "text/plain": [
       "(4323, 84)"
      ]
     },
     "execution_count": 204,
     "metadata": {},
     "output_type": "execute_result"
    }
   ],
   "source": [
    "holdout.shape"
   ]
  },
  {
   "cell_type": "markdown",
   "metadata": {},
   "source": [
    "Remember we have to perform the same transformations on our holdout data (feature engineering, extreme values, and scaling) that we performed on the original data."
   ]
  },
  {
   "cell_type": "code",
   "execution_count": 205,
   "metadata": {},
   "outputs": [],
   "source": [
    "# transformed_holdout = final_scaler(holdout)\n",
    "scaler = StandardScaler()\n",
    "sc_features = pd.DataFrame(data=scaler.fit_transform(holdout), columns=holdout.columns)"
   ]
  },
  {
   "cell_type": "markdown",
   "metadata": {},
   "source": [
    "## Step 3: Predict the holdout set"
   ]
  },
  {
   "cell_type": "code",
   "execution_count": 208,
   "metadata": {},
   "outputs": [
    {
     "data": {
      "text/plain": [
       "array([ 2.81167599e+15,  2.81167599e+15, -7.96304685e+15, ...,\n",
       "        2.45433837e+16, -1.56542271e+16,  2.45433837e+16])"
      ]
     },
     "execution_count": 208,
     "metadata": {},
     "output_type": "execute_result"
    }
   ],
   "source": [
    "# final_answers = final_model.predict(transformed_holdout)\n",
    "final_answers = final_model.predict(sc_features)\n",
    "final_answers"
   ]
  },
  {
   "cell_type": "markdown",
   "metadata": {},
   "source": [
    "## Step 4: Export your predictions"
   ]
  },
  {
   "cell_type": "code",
   "execution_count": 209,
   "metadata": {},
   "outputs": [],
   "source": [
    "# final_answer.to_csv('housing_preds_your_name.csv')\n",
    "pd.DataFrame(final_answers).to_csv('housing_preds_alanratliff.csv')"
   ]
  }
 ],
 "metadata": {
  "kernelspec": {
   "display_name": "Python 3",
   "language": "python",
   "name": "python3"
  },
  "language_info": {
   "codemirror_mode": {
    "name": "ipython",
    "version": 3
   },
   "file_extension": ".py",
   "mimetype": "text/x-python",
   "name": "python",
   "nbconvert_exporter": "python",
   "pygments_lexer": "ipython3",
   "version": "3.6.9"
  }
 },
 "nbformat": 4,
 "nbformat_minor": 2
}
