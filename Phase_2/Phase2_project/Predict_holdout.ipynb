{
 "cells": [
  {
   "cell_type": "code",
   "execution_count": 1,
   "metadata": {},
   "outputs": [],
   "source": [
    "import pandas as pd\n",
    "pd.set_option('display.max_columns', 300)\n",
    "pd.set_option('display.max_rows', 200)\n",
    "import numpy as np\n",
    "from matplotlib import pyplot as plt\n",
    "from sklearn import linear_model\n",
    "from sklearn.linear_model import LinearRegression\n",
    "from sklearn.preprocessing import PolynomialFeatures\n",
    "from sklearn.preprocessing import StandardScaler\n",
    "import pickle\n"
   ]
  },
  {
   "cell_type": "markdown",
   "metadata": {},
   "source": [
    "## Step 1: Read in hold out data, scalers, and best model"
   ]
  },
  {
   "cell_type": "code",
   "execution_count": 2,
   "metadata": {},
   "outputs": [],
   "source": [
    "#holdout = pd.read_csv('resources/movies_holdout_features.csv', index_col=0)\n",
    "holdout = pd.read_csv('kc_house_data_test_features.csv', index_col=0)"
   ]
  },
  {
   "cell_type": "code",
   "execution_count": 3,
   "metadata": {},
   "outputs": [],
   "source": [
    "# final_scaler = read_pickle(filename)\n",
    "# final_model = read_pickle(filename)\n",
    "file = open('model.pickle', 'rb')\n",
    "final_model = pickle.load(file)\n",
    "\n",
    "file = open('scaler.pickle','rb')\n",
    "final_scaler = pickle.load(file)\n",
    "\n",
    "# final_scaler = open('scaler.pickle')"
   ]
  },
  {
   "cell_type": "code",
   "execution_count": 4,
   "metadata": {},
   "outputs": [],
   "source": [
    "holdout['bedrooms']=holdout['bedrooms'].replace([33],3)\n",
    "holdout.loc[holdout['bedrooms'] >= 10]\n",
    "holdout.loc[holdout['bathrooms'] == 0] \n",
    "holdout['bathrooms'] = holdout['bathrooms'].replace([0],.25)"
   ]
  },
  {
   "cell_type": "markdown",
   "metadata": {},
   "source": [
    "## Step 2: Feature Engineering for holdout set"
   ]
  },
  {
   "cell_type": "code",
   "execution_count": 5,
   "metadata": {},
   "outputs": [],
   "source": [
    "features = ['bedrooms', 'bathrooms', 'sqft_living',\n",
    "       'sqft_lot', 'floors', 'waterfront', 'view', 'condition', 'grade',\n",
    "       'sqft_above', 'sqft_basement', 'yr_built', 'yr_renovated', 'zipcode',\n",
    "       'lat', 'long', 'sqft_living15', 'sqft_lot15']\n",
    "\n",
    "holdout_features = holdout[features]"
   ]
  },
  {
   "cell_type": "code",
   "execution_count": 6,
   "metadata": {},
   "outputs": [],
   "source": [
    "holdout = holdout.drop(['sqft_living',], axis = 1)"
   ]
  },
  {
   "cell_type": "code",
   "execution_count": 7,
   "metadata": {},
   "outputs": [],
   "source": [
    "holdout['multilevel'] = np.where(holdout['floors']> 1, 1, 0)\n",
    "holdout['multilevel'].value_counts()\n",
    "holdout['basement'] = np.where(holdout['sqft_basement']> 1, 1, 0)"
   ]
  },
  {
   "cell_type": "code",
   "execution_count": 8,
   "metadata": {},
   "outputs": [],
   "source": [
    "holdout.replace({'sqft_lot': {1105: 1200}}, inplace=True)"
   ]
  },
  {
   "cell_type": "code",
   "execution_count": 9,
   "metadata": {},
   "outputs": [],
   "source": [
    "holdout['outdoor_space'] = holdout['sqft_lot'] - (holdout['sqft_above']/holdout['floors'])\n",
    "holdout['modern'] = np.where((holdout['yr_built']>= 2004)|(holdout['yr_renovated']>=2001), 1, 0)\n",
    "holdout = holdout.drop(['id', 'date','sqft_lot', 'floors', 'sqft_basement', 'grade', 'sqft_lot15', 'sqft_living15'], axis=1)\n",
    "holdout['outdoor_space^2'] = holdout['outdoor_space']*holdout['outdoor_space']\n",
    "holdout['sqft_view'] = holdout['sqft_above']*holdout['view']\n",
    "holdout['sqft_multilevel'] = holdout['sqft_above']*holdout['multilevel']\n",
    "holdout['outdoor_modern'] = holdout['outdoor_space']*holdout['modern']\n",
    "holdout['outdoorspace_waterfront'] = holdout['outdoor_space']*holdout['waterfront']\n",
    "holdout = holdout.drop(['sqft_view','sqft_multilevel','outdoor_space^2'], axis=1)\n",
    "holdout_dum = pd.get_dummies(holdout['zipcode'])\n",
    "holdout = pd.concat([holdout, holdout_dum], axis=1)\n",
    "holdout = holdout.drop(['outdoor_space', 'outdoor_modern', 'outdoorspace_waterfront'], axis=1)"
   ]
  },
  {
   "cell_type": "code",
   "execution_count": 10,
   "metadata": {},
   "outputs": [
    {
     "data": {
      "text/plain": [
       "(4323, 84)"
      ]
     },
     "execution_count": 10,
     "metadata": {},
     "output_type": "execute_result"
    }
   ],
   "source": [
    "holdout.shape"
   ]
  },
  {
   "cell_type": "markdown",
   "metadata": {},
   "source": [
    "Remember we have to perform the same transformations on our holdout data (feature engineering, extreme values, and scaling) that we performed on the original data."
   ]
  },
  {
   "cell_type": "code",
   "execution_count": 12,
   "metadata": {},
   "outputs": [],
   "source": [
    "selected = [    'bedrooms',    'bathrooms',   'waterfront',         'view',\n",
    "          'condition',   'sqft_above',     'yr_built', 'yr_renovated',\n",
    "            'zipcode',          'lat',         'long',   'multilevel',\n",
    "           'basement',       'modern',          98001,          98002,\n",
    "                98003,          98004,          98005,          98006,\n",
    "                98007,          98008,          98010,          98011,\n",
    "                98014,          98019,          98022,          98023,\n",
    "                98024,          98027,          98028,          98029,\n",
    "                98030,          98031,          98032,          98033,\n",
    "                98034,          98038,          98039,          98040,\n",
    "                98042,          98045,          98052,          98053,\n",
    "                98055,          98056,          98058,          98059,\n",
    "                98065,          98070,          98072,          98074,\n",
    "                98075,          98077,          98092,          98102,\n",
    "                98103,          98105,          98106,          98107,\n",
    "                98108,          98109,          98112,          98115,\n",
    "                98116,          98117,          98118,          98119,\n",
    "                98122,          98125,          98126,          98133,\n",
    "                98136,          98144,          98146,          98148,\n",
    "                98155,          98166,          98168,          98177,\n",
    "                98178,          98188,          98198,          98199]"
   ]
  },
  {
   "cell_type": "code",
   "execution_count": null,
   "metadata": {},
   "outputs": [],
   "source": [
    "holdout.describe()"
   ]
  },
  {
   "cell_type": "code",
   "execution_count": null,
   "metadata": {},
   "outputs": [],
   "source": [
    "scaled_data = final_scaler.transform(holdout)"
   ]
  },
  {
   "cell_type": "code",
   "execution_count": null,
   "metadata": {},
   "outputs": [],
   "source": [
    "# transformed_holdout = final_scaler(holdout)\n",
    "\n",
    "sc_features = pd.DataFrame(data=scaled_data, columns=holdout.columns)"
   ]
  },
  {
   "cell_type": "markdown",
   "metadata": {},
   "source": [
    "## Step 3: Predict the holdout set"
   ]
  },
  {
   "cell_type": "code",
   "execution_count": 14,
   "metadata": {},
   "outputs": [
    {
     "data": {
      "text/plain": [
       "array([548253.75, 548253.75, 407399.25, ..., 288142.5 , 396938.5 ,\n",
       "       288798.5 ])"
      ]
     },
     "execution_count": 14,
     "metadata": {},
     "output_type": "execute_result"
    }
   ],
   "source": [
    "# final_answers = final_model.predict(transformed_holdout)\n",
    "final_answers = final_model.predict(holdout)\n",
    "final_answers"
   ]
  },
  {
   "cell_type": "markdown",
   "metadata": {},
   "source": [
    "## Step 4: Export your predictions"
   ]
  },
  {
   "cell_type": "code",
   "execution_count": 16,
   "metadata": {},
   "outputs": [],
   "source": [
    "# final_answer.to_csv('housing_preds_your_name.csv')\n",
    "pd.DataFrame(final_answers).to_csv('housing_preds_alanratliff.csv')"
   ]
  },
  {
   "cell_type": "code",
   "execution_count": null,
   "metadata": {},
   "outputs": [],
   "source": []
  }
 ],
 "metadata": {
  "kernelspec": {
   "display_name": "Python 3",
   "language": "python",
   "name": "python3"
  },
  "language_info": {
   "codemirror_mode": {
    "name": "ipython",
    "version": 3
   },
   "file_extension": ".py",
   "mimetype": "text/x-python",
   "name": "python",
   "nbconvert_exporter": "python",
   "pygments_lexer": "ipython3",
   "version": "3.6.9"
  }
 },
 "nbformat": 4,
 "nbformat_minor": 2
}
